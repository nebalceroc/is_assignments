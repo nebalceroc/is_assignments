{
 "cells": [
  {
   "cell_type": "markdown",
   "metadata": {},
   "source": [
    "# Intelligent Systems Assignment 1\n",
    "\n",
    "## Masterball solver\n",
    "\n",
    "Nicolás Esteban Balcero Cerón - CC 1032452083\n",
    "\n"
   ]
  },
  {
   "cell_type": "markdown",
   "metadata": {},
   "source": [
    "### 1. Create a class to model the Masterball problem"
   ]
  },
  {
   "cell_type": "markdown",
   "metadata": {},
   "source": [
    "A Masterball must be represented as an array of arrays with integer values representing the color of the tile in each position:\n",
    "\n",
    "A solved masterball must look like this:\n",
    "\n",
    "```python\n",
    "[ [0, 1, 2, 3, 4, 5, 6, 7],\n",
    "  [0, 1, 2, 3, 4, 5, 6, 7],\n",
    "  [0, 1, 2, 3, 4, 5, 6, 7],\n",
    "  [0, 1, 2, 3, 4, 5, 6, 7]\n",
    "]\n",
    "```"
   ]
  },
  {
   "cell_type": "markdown",
   "metadata": {},
   "source": [
    "#### Variables modeling the actions"
   ]
  },
  {
   "cell_type": "code",
   "execution_count": 8,
   "metadata": {},
   "outputs": [],
   "source": [
    "'''\n",
    "This variables MUST not be changed.\n",
    "They represent the movements of the masterball.\n",
    "'''\n",
    "R_0 = \"Right 0\"\n",
    "R_1 = \"Right 1\"\n",
    "R_2 = \"Right 2\"\n",
    "R_3 = \"Right 3\"\n",
    "\n",
    "V_0 = \"Vertical 0\"\n",
    "V_1 = \"Vertical 1\"\n",
    "V_2 = \"Vertical 2\"\n",
    "V_3 = \"Vertical 3\"\n",
    "V_4 = \"Vertical 4\"\n",
    "V_5 = \"Vertical 5\"\n",
    "V_6 = \"Vertical 6\"\n",
    "V_7 = \"Vertical 7\"\n",
    "\n",
    "actions = [R_0,R_1,R_2,R_3,V_0,V_1,V_2,V_3,V_4,V_5,V_6,V_7]\n"
   ]
  },
  {
   "cell_type": "markdown",
   "metadata": {},
   "source": [
    "`R_i` moves the `i`th row to the right. For instance, `R_2` applied to the solved state will produce:\n",
    "\n",
    "```python\n",
    "[ [0, 1, 2, 3, 4, 5, 6, 7],\n",
    "  [0, 1, 2, 3, 4, 5, 6, 7],\n",
    "  [7, 0, 1, 2, 3, 4, 5, 6],\n",
    "  [0, 1, 2, 3, 4, 5, 6, 7]\n",
    "]\n",
    "```\n",
    "\n",
    "`V_i` performs a clockwise vertical move starting with the `i`th column\n",
    "\n",
    "`V_1` applied to the above state will produce:\n",
    "\n",
    "```python\n",
    "[ [0, 4, 3, 2, 1, 5, 6, 7],\n",
    "  [0, 3, 2, 1, 0, 5, 6, 7],\n",
    "  [7, 4, 3, 2, 1, 4, 5, 6],\n",
    "  [0, 4, 3, 2, 1, 5, 6, 7]\n",
    "]\n",
    "```"
   ]
  },
  {
   "cell_type": "markdown",
   "metadata": {},
   "source": [
    "#### The Masterball problem class"
   ]
  },
  {
   "cell_type": "code",
   "execution_count": 9,
   "metadata": {},
   "outputs": [],
   "source": [
    "import search\n",
    "import util\n",
    "\n",
    "class MasterballProblem(search.SearchProblem):    \n",
    "    \n",
    "    def __init__(self, startState):\n",
    "        '''\n",
    "        Store the initial state in the problem representation and any useful\n",
    "        data.\n",
    "        Here are some examples of initial states:\n",
    "        [[0, 1, 4, 5, 6, 2, 3, 7], [0, 1, 3, 4, 5, 6, 3, 7], [1, 2, 4, 5, 6, 2, 7, 0], [0, 1, 4, 5, 6, 2, 3, 7]]\n",
    "        [[0, 7, 4, 5, 1, 6, 2, 3], [0, 7, 4, 5, 0, 5, 2, 3], [7, 6, 3, 4, 1, 6, 1, 2], [0, 7, 4, 5, 1, 6, 2, 3]]\n",
    "        [[0, 1, 6, 4, 5, 2, 3, 7], [0, 2, 6, 5, 1, 3, 4, 7], [0, 2, 6, 5, 1, 3, 4, 7], [0, 5, 6, 4, 1, 2, 3, 7]]\n",
    "        '''\n",
    "        self.expanded = 0\n",
    "        ### your code here ###\n",
    "        self.startState = startState\n",
    "    \n",
    "    \n",
    "    def isGoalState(self, state):\n",
    "        '''\n",
    "        Define when a given state is a goal state (A correctly colored masterball)\n",
    "        '''\n",
    "        ### your code here ###\n",
    "        for lat in state:\n",
    "            for idx, lon in enumerate(lat):\n",
    "                if idx != lon:\n",
    "                    return False\n",
    "                \n",
    "        return True\n",
    "    \n",
    "    def getStartState(self):\n",
    "        '''\n",
    "        Implement a method that returns the start state according to the SearchProblem\n",
    "        contract.\n",
    "        '''\n",
    "        ### your code here ###\n",
    "        return self.startState\n",
    "\n",
    "    def getSuccessors(self, state):\n",
    "        '''\n",
    "        Implement a successor function: Given a state from the masterball\n",
    "        return a list of the successors and their corresponding actions. \n",
    "\n",
    "        This method *must* return a list where each element is a tuple of \n",
    "        three elements with the state of the masterball in the first position,\n",
    "        the action (according to the definition above) in the second position, \n",
    "        and the cost of the action in the last position. \n",
    "\n",
    "        Note that you should not modify the state.\n",
    "        '''\n",
    "        self.expanded += 1\n",
    "        successors = []\n",
    "        ### your code here ###\n",
    "        s_state = []\n",
    "        for layer in state:\n",
    "            s_state.append(list(layer))\n",
    "\n",
    "        for action in actions:\n",
    "            s_state = []\n",
    "            for layer in state:\n",
    "                s_state.append(list(layer))\n",
    "\n",
    "            action_type, orientation = action.split(\" \")\n",
    "            orientation = int(orientation)\n",
    "            if action_type == \"Right\":\n",
    "                s_state[orientation] = [s_state[orientation][-1]] + s_state[orientation][:-1]\n",
    "            elif action_type == \"Vertical\":\n",
    "                lat = 0\n",
    "                while lat < len(s_state):\n",
    "                    aux_arr = [s_state[lat][(orientation+3)%8],s_state[lat][(orientation+2)%8],s_state[lat][(orientation+1)%8],s_state[lat][orientation]]\n",
    "                    s_state[lat][orientation] = aux_arr[0]\n",
    "                    s_state[lat][(orientation+1)%8] = aux_arr[1]\n",
    "                    s_state[lat][(orientation+2)%8] = aux_arr[2]\n",
    "                    s_state[lat][(orientation+3)%8] = aux_arr[3]\n",
    "                    lat += 1\n",
    "\n",
    "\n",
    "            tupled_layers = []\n",
    "            for layer in s_state:\n",
    "                tupled_layers.append(tuple(layer))\n",
    "\n",
    "            tupled_state = tuple(tupled_layers)\n",
    "\n",
    "            successors.append(tuple((tupled_state,action,1)))\n",
    "        return successors"
   ]
  },
  {
   "cell_type": "markdown",
   "metadata": {},
   "source": [
    "### 2. Implement iterative deepening search\n",
    "\n",
    "Follow the example code provided in class and implement iterative deepening search (IDS)."
   ]
  },
  {
   "cell_type": "code",
   "execution_count": null,
   "metadata": {},
   "outputs": [],
   "source": [
    "from graphviz import Graph, Digraph\n",
    "from IPython.display import display\n",
    "import itertools\n",
    "\n",
    "class search_tree():\n",
    "    def __init__(self):\n",
    "        self.graph = Digraph(graph_attr = {'size':'9'})\n",
    "\n",
    "    def addNode(self, name, label):\n",
    "        self.graph.node(name, label)\n",
    "\n",
    "    def addEdge(self, source, action, target):\n",
    "        self.graph.edge(source, target, action)\n",
    "\n",
    "    def getDot(self):\n",
    "        return self.graph\n",
    "\n",
    "def graphDot(g_prob, color):\n",
    "    dot = Graph(graph_attr = {'size':'3.5'})\n",
    "    for node in g_prob.G:\n",
    "        if not node in color:\n",
    "            dot.node(node)\n",
    "        else:\n",
    "            dot.node(node, style = 'filled', color = color[node])\n",
    "    for n1 in g_prob.G:\n",
    "        for n2 in g_prob.G[n1]:\n",
    "            if n1 < n2:\n",
    "                dot.edge(n1, n2)\n",
    "    return dot\n",
    "\n",
    "def iterativeDeepeningSearch(problem):    \n",
    "    for depth in itertools.count():\n",
    "        visited = {}\n",
    "        frontier = util.Queue()\n",
    "        state = problem.getStartState()\n",
    "        frontier.push((state, [], 0))\n",
    "        tree = search_tree()\n",
    "        tree.addNode(str(state)+\"[]\",str(state))\n",
    "        while not frontier.isEmpty():\n",
    "            u, actions, path_cost = frontier.pop()\n",
    "            if problem.isGoalState(u):\n",
    "                return  actions, tree\n",
    "            if not u in visited:\n",
    "                for v, action, cost in problem.getSuccessors(u):\n",
    "                    tree.addNode(str(v) + str(actions+[action]), str(v))\n",
    "                    tree.addEdge(str(u) + str(actions), str(cost), str(v) + str(actions+[action]))\n",
    "                    if path_cost < depth:\n",
    "                        frontier.push((v, actions + [action], path_cost + cost))\n",
    "            visited[u] = 'black'\n",
    "            display(tree)\n",
    "    return [], tree\n",
    "\n",
    "def aStarSearch(problem, heuristic):\n",
    "    def f_cost(item):\n",
    "        return item[2] + heuristic(item[0])\n",
    "    visited = {}\n",
    "    frontier = util.PriorityQueueWithFunction(f_cost)\n",
    "    state = problem.getStartState()\n",
    "    frontier.push((state, [], 0))\n",
    "    tree = search_tree()\n",
    "    tree.addNode(str(state)+\"[]\",str(state))\n",
    "    while not frontier.isEmpty():\n",
    "        u, actions, path_cost = frontier.pop()\n",
    "        if problem.isGoalState(u):\n",
    "            return  actions, tree\n",
    "        if not u in visited:\n",
    "            for v, action, cost in problem.getSuccessors(u):\n",
    "                tree.addNode(str(v) + str(actions+[action]), str(v))\n",
    "                tree.addEdge(str(u) + str(actions), str(cost), str(v) + str(actions+[action]))\n",
    "                frontier.push((v, actions + [action], path_cost + cost))\n",
    "        visited[u] = 'black'\n",
    "    return [], tree"
   ]
  },
  {
   "cell_type": "markdown",
   "metadata": {},
   "source": [
    "Evaluate it to see what is the maximum depth that it could explore in a reasonable time. Report the results. "
   ]
  },
  {
   "cell_type": "markdown",
   "metadata": {},
   "source": [
    "### 3. Implement different heuristics for the problem"
   ]
  },
  {
   "cell_type": "markdown",
   "metadata": {
    "collapsed": true
   },
   "source": [
    "Implement at least two admissible and consistent heuristics. Compare A* using the heuristics against IDS calculating the number of expanded nodes and the effective branching factor, in the same way as it is done in figure 3.29 of [Russell10]."
   ]
  },
  {
   "cell_type": "code",
   "execution_count": null,
   "metadata": {},
   "outputs": [],
   "source": [
    "def myHeuristic(state):\n",
    "    error_count = 0\n",
    "    for lat in state:\n",
    "        i = 0\n",
    "        for ipos in lat:\n",
    "            if ipos != i:\n",
    "                error_count+=1\n",
    "            i+=1\n",
    "    return error_count"
   ]
  },
  {
   "cell_type": "markdown",
   "metadata": {},
   "source": [
    "Now apply the develop functions to solve the Masterball problem."
   ]
  },
  {
   "cell_type": "code",
   "execution_count": null,
   "metadata": {},
   "outputs": [],
   "source": [
    "problem = MasterballProblem(((4, 3, 7, 5, 0, 1, 6, 2), (4, 3, 7, 5, 0, 1, 6, 2), (4, 3, 7, 5, 0, 1, 6, 2), (2, 4, 3, 7, 5, 0, 1, 6)))\n",
    "\n",
    "#print(iterativeDeepeningSearch(problem))\n",
    "s = aStarSearch(problem, myHeuristic)\n",
    "print(s)\n",
    "display(s[1].getDot())"
   ]
  },
  {
   "cell_type": "code",
   "execution_count": null,
   "metadata": {},
   "outputs": [],
   "source": []
  },
  {
   "cell_type": "code",
   "execution_count": null,
   "metadata": {},
   "outputs": [],
   "source": []
  }
 ],
 "metadata": {
  "kernelspec": {
   "display_name": "Python 2",
   "language": "python",
   "name": "python2"
  },
  "language_info": {
   "codemirror_mode": {
    "name": "ipython",
    "version": 2
   },
   "file_extension": ".py",
   "mimetype": "text/x-python",
   "name": "python",
   "nbconvert_exporter": "python",
   "pygments_lexer": "ipython2",
   "version": "2.7.13"
  }
 },
 "nbformat": 4,
 "nbformat_minor": 1
}
